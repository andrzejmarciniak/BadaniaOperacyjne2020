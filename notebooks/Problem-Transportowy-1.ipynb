{
 "cells": [
  {
   "cell_type": "markdown",
   "metadata": {},
   "source": [
    "<a href=\"https://colab.research.google.com/github/andrzejmarciniak/BadaniaOperacyjne2020/blob/master/notebooks/Problem-Transportowy-1.ipynb\"><img align=\"left\" src=\"https://colab.research.google.com/assets/colab-badge.svg\" alt=\"Otwórz w Colab\" title=\"Otwórz w Google Colaboratory\"></a>"
   ]
  },
  {
   "cell_type": "markdown",
   "metadata": {
    "colab_type": "text",
    "id": "jMxww7mcmaBK",
    "pycharm": {}
   },
   "source": [
    "# Sieci transportowe\n",
    "\n",
    "Keywords: transportation, assignment, cbc usage\n",
    "\n",
    "Ten notebook demonstruje rozwiązanie problemów dotyczących sieci transportowych przy użyciu Pyomo i GLPK. Opis problemu i dane zostały zaadaptowane z rozdziału 5 Johannesa Bisschopa, „Modelowanie optymalizacyjne AIMMS”, AIMMS B. V., 2014. [\"AIMMS Optimization Modeling\", AIMMS B. V., 2014](http://download.aimms.com/aimms/download/manuals/AIMMS3_OM.pdf).\n"
   ]
  },
  {
   "cell_type": "markdown",
   "metadata": {},
   "source": [
    "## Imports"
   ]
  },
  {
   "cell_type": "code",
   "execution_count": 1,
   "metadata": {
    "colab": {},
    "colab_type": "code",
    "id": "WdqEo2IbmjQu",
    "pycharm": {}
   },
   "outputs": [],
   "source": [
    "import shutil\n",
    "import sys\n",
    "import os.path\n",
    "\n",
    "if not shutil.which(\"pyomo\"):\n",
    "    !pip install -q pyomo\n",
    "    assert(shutil.which(\"pyomo\"))\n",
    "\n",
    "if not (shutil.which(\"cbc\") or os.path.isfile(\"cbc\")):\n",
    "    if \"google.colab\" in sys.modules:\n",
    "        !apt-get install -y -qq coinor-cbc\n",
    "    else:\n",
    "        try:\n",
    "            !conda install -c conda-forge coincbc \n",
    "        except:\n",
    "            pass\n",
    "\n",
    "assert(shutil.which(\"cbc\") or os.path.isfile(\"cbc\"))\n",
    "    \n",
    "from pyomo.environ import *"
   ]
  },
  {
   "cell_type": "markdown",
   "metadata": {
    "pycharm": {
     "metadata": false,
     "name": "#%% md\n"
    }
   },
   "source": [
    "## SFORMUŁOWANIE PROBLEMU\n",
    "\n",
    "Prototypowy problem transportu dotyczy dystrybucji towaru ze zbioru źródeł do zbioru miejsc docelowych. Celem jest zminimalizowanie całkowitych kosztów transportu przy jednoczesnym spełnieniu ograniczeń dotyczących dostaw dostępnych w każdym ze źródeł i spełnieniu wymagań popytu w każdym z miejsc docelowych.\n",
    "\n",
    "Tutaj ilustrujemy problem transportowy na przykładzie opisanym w rozdziale 5 Johannesa Bisschopa, „AIMMS Optimization Modeling”, Paragon Decision Sciences, 1999. W tym przykładzie są dwie fabryki i sześć lokalizacji klientów w 8 europejskich miastach, jak pokazano na poniższej mapie . Lokalizacje klientów są oznaczone na czerwono, fabryki na niebiesko."
   ]
  },
  {
   "cell_type": "markdown",
   "metadata": {
    "colab_type": "text",
    "id": "i2uB5hYLmaBN",
    "pycharm": {}
   },
   "source": [
    "![TransportationNetworksMap.png](https://github.com/jckantor/ND-Pyomo-Cookbook/blob/master/notebooks/figures/TransportationNetworksMap.png?raw=1)"
   ]
  },
  {
   "cell_type": "markdown",
   "metadata": {
    "colab_type": "text",
    "id": "P7FCxssgmaBP",
    "pycharm": {}
   },
   "source": [
    "Koszty transportu między źródłami a miejscami docelowymi podano w jednostkach EUR / tonę wysyłanych towarów i zestawiono w poniższej tabeli wraz z ograniczeniami dotyczącymi pojemności źródeł i wielkoci zapotrzebowania.\n"
   ]
  },
  {
   "cell_type": "markdown",
   "metadata": {
    "pycharm": {
     "metadata": false,
     "name": "#%% md\n"
    }
   },
   "source": [
    "### Tabela 1. Koszty jednostkowe transportu \n",
    ", zapotrzbowanie klientów, i dostępne dostawy\n",
    "\n",
    "| Customer\\Source | Arnhem [&euro;/t] | Gouda [&euro;/t] | Demand [t]|\n",
    "| :--: | :----: | :---: | :----: |\n",
    "| London | n/a | 2.5 | 125 |\n",
    "| Berlin | 2.5 | n/a | 175 |\n",
    "| Maastric *Supply [t]** | 550 t | 700 t |  |ht | 1.6 | 2.0 | 225 |\n",
    "| Amsterdam | 1.4 | 1.0 | 250 |\n",
    "| Utrecht | 0.8 | 1.0 | 225 |\n",
    "| Haga | 1.4 | 0.8 | 200 |\n",
    "|\n",
    "\n",
    "Sytuację tą można modelować za pomocą relacji łączących zbiór węzłów reprezentujących źródła ze zbiorem węzłów reprezentujących klientów.\n",
    "\n",
    "![TransportNet.png](https://github.com/jckantor/ND-Pyomo-Cookbook/blob/master/notebooks/figures/TransportNet.png?raw=1)\n",
    "\n",
    "Dla każdego połączenia możemy mieć parametr $ T [c, s] $ oznaczający koszt wysyłki tony towarów przez łącze. To, co musimy ustalić, to ilość towarów, które zostaną wysłane przez kżde łącze, co będziemy reprezentować jako nieujemną zmienną decyzyjną $ x [c, s] $.\n",
    "\n",
    "Celem jest zminimalizowanie całkowitego kosztu wysyłki do wszystkich klientów ze wszystkich źródeł.\n",
    "\n",
    "$$ \\ mbox {minimalizuj:} \\ quad \\ mbox {Koszt} = \\ sum_ {c \\ w Klientach} \\ sum_ {s \\ w Źródłach} T [c, s] x [c, s] $$\n",
    "\n",
    "Przesyłki ze wszystkich źródeł nie mogą przekroczyć zdolności produkcyjnych źródła.\n",
    "\n",
    "$$ \\ sum_ {c \\ w Klientach} x [c, s] \\ leq \\ mbox {Supply} [s] \\ qquad \\ forall s \\ in Sources $$\n",
    "\n",
    "Przesyłki do każdego klienta muszą spełniać jego wymagania.\n",
    "\n",
    "$$ \\ sum_ {s \\ in Sources} x [c, s] = \\ mbox {Demand} [c] \\ qquad \\ forall c \\ w Klientach $$\n",
    " \n"
   ]
  },
  {
   "cell_type": "markdown",
   "metadata": {
    "colab_type": "text",
    "id": "Z6lxj4h7mfBA",
    "pycharm": {}
   },
   "source": [
    "## Pyomo model"
   ]
  },
  {
   "cell_type": "markdown",
   "metadata": {
    "colab_type": "text",
    "id": "KVTGAB_rmaBR",
    "pycharm": {}
   },
   "source": [
    "### Data File"
   ]
  },
  {
   "cell_type": "code",
   "execution_count": 8,
   "metadata": {
    "colab": {},
    "colab_type": "code",
    "id": "PWTg-VkImaBR",
    "pycharm": {}
   },
   "outputs": [
    {
     "name": "stdout",
     "output_type": "stream",
     "text": [
      "Dane:\n",
      "Demand: {'Lon': 125, 'Ber': 175, 'Maa': 225, 'Ams': 250, 'Utr': 225, 'Hag': 200}\n",
      "Supply: {'Arn': 600, 'Gou': 650}\n",
      "T: {('Lon', 'Arn'): 1000, ('Lon', 'Gou'): 2.5, ('Ber', 'Arn'): 2.5, ('Ber', 'Gou'): 1000, ('Maa', 'Arn'): 1.6, ('Maa', 'Gou'): 2.0, ('Ams', 'Arn'): 1.4, ('Ams', 'Gou'): 1.0, ('Utr', 'Arn'): 0.8, ('Utr', 'Gou'): 1.0, ('Hag', 'Arn'): 1.4, ('Hag', 'Gou'): 0.8}\n"
     ]
    }
   ],
   "source": [
    "Demand = {\n",
    "   'Lon':   125,        # London\n",
    "   'Ber':   175,        # Berlin\n",
    "   'Maa':   225,        # Maastricht\n",
    "   'Ams':   250,        # Amsterdam\n",
    "   'Utr':   225,        # Utrecht\n",
    "   'Hag':   200         # The Hague\n",
    "}\n",
    "\n",
    "Supply = {\n",
    "   'Arn':   600,        # Arnhem\n",
    "   'Gou':   650         # Gouda\n",
    "}\n",
    "\n",
    "T = {\n",
    "    ('Lon','Arn'): 1000,\n",
    "    ('Lon','Gou'): 2.5,\n",
    "    ('Ber','Arn'): 2.5,\n",
    "    ('Ber','Gou'): 1000,\n",
    "    ('Maa','Arn'): 1.6,\n",
    "    ('Maa','Gou'): 2.0,\n",
    "    ('Ams','Arn'): 1.4,\n",
    "    ('Ams','Gou'): 1.0,\n",
    "    ('Utr','Arn'): 0.8,\n",
    "    ('Utr','Gou'): 1.0,\n",
    "    ('Hag','Arn'): 1.4,\n",
    "    ('Hag','Gou'): 0.8\n",
    "}\n",
    "\n",
    "print(\"Dane:\")\n",
    "print(\"Demand:\", Demand)\n",
    "print(\"Supply:\", Supply)\n",
    "print(\"T:\", T)"
   ]
  },
  {
   "cell_type": "markdown",
   "metadata": {
    "colab_type": "text",
    "id": "Xzn73cqWmaBX",
    "pycharm": {}
   },
   "source": [
    "### Model file"
   ]
  },
  {
   "cell_type": "code",
   "execution_count": 3,
   "metadata": {
    "colab": {
     "base_uri": "https://localhost:8080/",
     "height": 527
    },
    "colab_type": "code",
    "executionInfo": {
     "elapsed": 7319,
     "status": "ok",
     "timestamp": 1555699291817,
     "user": {
      "displayName": "Jeffrey Kantor",
      "photoUrl": "https://lh5.googleusercontent.com/-8zK5aAW5RMQ/AAAAAAAAAAI/AAAAAAAAKB0/kssUQyz8DTQ/s64/photo.jpg",
      "userId": "09038942003589296665"
     },
     "user_tz": 240
    },
    "id": "cVoqn1ozmaBX",
    "outputId": "2a0fc8aa-3d16-4128-a12c-95b4e8b6dd55",
    "pycharm": {}
   },
   "outputs": [
    {
     "name": "stdout",
     "output_type": "stream",
     "text": [
      "# ==========================================================\n",
      "# = Solver Results                                         =\n",
      "# ==========================================================\n",
      "# ----------------------------------------------------------\n",
      "#   Problem Information\n",
      "# ----------------------------------------------------------\n",
      "Problem: \n",
      "- Name: unknown\n",
      "  Lower bound: 1705.0\n",
      "  Upper bound: 1705.0\n",
      "  Number of objectives: 1\n",
      "  Number of constraints: 9\n",
      "  Number of variables: 13\n",
      "  Number of nonzeros: 6\n",
      "  Sense: minimize\n",
      "# ----------------------------------------------------------\n",
      "#   Solver Information\n",
      "# ----------------------------------------------------------\n",
      "Solver: \n",
      "- Status: ok\n",
      "  User time: -1.0\n",
      "  System time: 0.01\n",
      "  Wallclock time: 0.01\n",
      "  Termination condition: optimal\n",
      "  Termination message: Model was solved to optimality (subject to tolerances), and an optimal solution is available.\n",
      "  Statistics: \n",
      "    Branch and bound: \n",
      "      Number of bounded subproblems: None\n",
      "      Number of created subproblems: None\n",
      "    Black box: \n",
      "      Number of iterations: 1\n",
      "  Error rc: 0\n",
      "  Time: 0.10010480880737305\n",
      "# ----------------------------------------------------------\n",
      "#   Solution Information\n",
      "# ----------------------------------------------------------\n",
      "Solution: \n",
      "- number of solutions: 0\n",
      "  number of solutions displayed: 0\n"
     ]
    }
   ],
   "source": [
    "# Step 0: Create an instance of the model\n",
    "model = ConcreteModel()\n",
    "model.dual = Suffix(direction=Suffix.IMPORT)\n",
    "\n",
    "# Step 1: Define index sets\n",
    "CUS = list(Demand.keys())\n",
    "SRC = list(Supply.keys())\n",
    "\n",
    "# Step 2: Define the decision \n",
    "model.x = Var(CUS, SRC, domain = NonNegativeReals)\n",
    "\n",
    "# Step 3: Define Objective\n",
    "model.Cost = Objective(\n",
    "    expr = sum([T[c,s]*model.x[c,s] for c in CUS for s in SRC]),\n",
    "    sense = minimize)\n",
    "\n",
    "# Step 4: Constraints\n",
    "model.src = ConstraintList()\n",
    "for s in SRC:\n",
    "    model.src.add(sum([model.x[c,s] for c in CUS]) <= Supply[s])\n",
    "        \n",
    "model.dmd = ConstraintList()\n",
    "for c in CUS:\n",
    "    model.dmd.add(sum([model.x[c,s] for s in SRC]) == Demand[c])\n",
    "    \n",
    "results = SolverFactory('cbc').solve(model)\n",
    "results.write()"
   ]
  },
  {
   "cell_type": "markdown",
   "metadata": {
    "colab_type": "text",
    "id": "zPozph3lmaBc",
    "pycharm": {}
   },
   "source": [
    "## Solution"
   ]
  },
  {
   "cell_type": "code",
   "execution_count": 4,
   "metadata": {
    "colab": {
     "base_uri": "https://localhost:8080/",
     "height": 221
    },
    "colab_type": "code",
    "executionInfo": {
     "elapsed": 7308,
     "status": "ok",
     "timestamp": 1555699291818,
     "user": {
      "displayName": "Jeffrey Kantor",
      "photoUrl": "https://lh5.googleusercontent.com/-8zK5aAW5RMQ/AAAAAAAAAAI/AAAAAAAAKB0/kssUQyz8DTQ/s64/photo.jpg",
      "userId": "09038942003589296665"
     },
     "user_tz": 240
    },
    "id": "c9oQxQsxmaBe",
    "outputId": "be89d8bd-d1f7-40b8-be40-84d37e401dbf",
    "pycharm": {}
   },
   "outputs": [
    {
     "name": "stdout",
     "output_type": "stream",
     "text": [
      "Lon Arn 0.0\n",
      "Lon Gou 125.0\n",
      "Ber Arn 175.0\n",
      "Ber Gou 0.0\n",
      "Maa Arn 225.0\n",
      "Maa Gou 0.0\n",
      "Ams Arn 0.0\n",
      "Ams Gou 250.0\n",
      "Utr Arn 200.0\n",
      "Utr Gou 25.0\n",
      "Hag Arn 0.0\n",
      "Hag Gou 200.0\n"
     ]
    }
   ],
   "source": [
    "for c in CUS:\n",
    "    for s in SRC:\n",
    "        print(c, s, model.x[c,s]())"
   ]
  },
  {
   "cell_type": "code",
   "execution_count": 5,
   "metadata": {
    "colab": {
     "base_uri": "https://localhost:8080/",
     "height": 187
    },
    "colab_type": "code",
    "executionInfo": {
     "elapsed": 7289,
     "status": "ok",
     "timestamp": 1555699291819,
     "user": {
      "displayName": "Jeffrey Kantor",
      "photoUrl": "https://lh5.googleusercontent.com/-8zK5aAW5RMQ/AAAAAAAAAAI/AAAAAAAAKB0/kssUQyz8DTQ/s64/photo.jpg",
      "userId": "09038942003589296665"
     },
     "user_tz": 240
    },
    "id": "dfLXRj7umaBz",
    "outputId": "e40c0ffd-ce4b-43c0-f926-c211aa0b0245",
    "pycharm": {}
   },
   "outputs": [
    {
     "name": "stdout",
     "output_type": "stream",
     "text": [
      "Total Shipping Costs =  1705.0\n",
      "\n",
      "Shipping Table:\n",
      "Ship from  Arn  to  Ber : 175.0\n",
      "Ship from  Arn  to  Maa : 225.0\n",
      "Ship from  Arn  to  Utr : 200.0\n",
      "Ship from  Gou  to  Lon : 125.0\n",
      "Ship from  Gou  to  Ams : 250.0\n",
      "Ship from  Gou  to  Utr : 25.0\n",
      "Ship from  Gou  to  Hag : 200.0\n"
     ]
    }
   ],
   "source": [
    "if 'ok' == str(results.Solver.status):\n",
    "    print(\"Total Shipping Costs = \",model.Cost())\n",
    "    print(\"\\nShipping Table:\")\n",
    "    for s in SRC:\n",
    "        for c in CUS:\n",
    "            if model.x[c,s]() > 0:\n",
    "                print(\"Ship from \", s,\" to \", c, \":\", model.x[c,s]())\n",
    "else:\n",
    "    print(\"No Valid Solution Found\")"
   ]
  },
  {
   "cell_type": "markdown",
   "metadata": {
    "colab_type": "text",
    "id": "nkc1GK46maB3",
    "pycharm": {}
   },
   "source": [
    "The solution has the interesting property that, with the exception of Utrecht, customers are served by just one source.\n",
    "\n",
    "![TransportNet_soln.png](https://github.com/jckantor/ND-Pyomo-Cookbook/blob/master/notebooks/figures/TransportNet_soln.png?raw=1)\n"
   ]
  },
  {
   "cell_type": "markdown",
   "metadata": {
    "colab_type": "text",
    "id": "wCmJ6UACmaB4",
    "pycharm": {}
   },
   "source": [
    "## Sensitivity analysis"
   ]
  },
  {
   "cell_type": "markdown",
   "metadata": {
    "pycharm": {
     "metadata": false,
     "name": "#%% md\n"
    }
   },
   "source": [
    "### Analysis by source"
   ]
  },
  {
   "cell_type": "code",
   "execution_count": 6,
   "metadata": {
    "colab": {
     "base_uri": "https://localhost:8080/",
     "height": 102
    },
    "colab_type": "code",
    "executionInfo": {
     "elapsed": 7271,
     "status": "ok",
     "timestamp": 1555699291820,
     "user": {
      "displayName": "Jeffrey Kantor",
      "photoUrl": "https://lh5.googleusercontent.com/-8zK5aAW5RMQ/AAAAAAAAAAI/AAAAAAAAKB0/kssUQyz8DTQ/s64/photo.jpg",
      "userId": "09038942003589296665"
     },
     "user_tz": 240
    },
    "id": "eq7tLE9FmaB6",
    "outputId": "49ad2d17-0c77-4d08-d19d-cb16cab82e9f",
    "pycharm": {}
   },
   "outputs": [
    {
     "name": "stdout",
     "output_type": "stream",
     "text": [
      "\n",
      "Sources:\n",
      "Source      Capacity   Shipped    Margin\n",
      "Arn            600.0     600.0   -0.2000\n",
      "Gou            650.0     600.0    0.0000\n"
     ]
    }
   ],
   "source": [
    "if 'ok' == str(results.Solver.status):\n",
    "    print(\"\\nSources:\")\n",
    "    print(\"Source      Capacity   Shipped    Margin\")\n",
    "    for m in model.src.keys():\n",
    "        s = SRC[m-1]\n",
    "        print(\"{0:10s}{1:10.1f}{2:10.1f}{3:10.4f}\".format(s,Supply[s],model.src[m](),model.dual[model.src[m]]))\n",
    "else:\n",
    "    print(\"No Valid Solution Found\")"
   ]
  },
  {
   "cell_type": "markdown",
   "metadata": {
    "colab_type": "text",
    "id": "ZIlMOpDLmaB9",
    "pycharm": {}
   },
   "source": [
    "The 'marginal' values are telling us how much the total costs will be increased for each one ton increase in the available supply from each source. The optimization calculation says that only 650 tons of the 700 available from Gouda should used for a minimum cost solution, which rules out any further cost reductions by increasing the available supply. In fact, we could decrease the supply Gouda without any harm. The marginal value of Gouda is 0.\n",
    "\n",
    "The source at Arnhem is a different matter. First, all 550 available tons are being used. Second, from the marginal value we see that the total transportations costs would be reduced by 0.2 Euros for each additional ton of supply.  \n",
    "\n",
    "The management conclusion we can draw is that there is excess supply available at Gouda which should, if feasible, me moved to Arnhem.\n",
    "\n",
    "Now that's a valuable piece of information!"
   ]
  },
  {
   "cell_type": "markdown",
   "metadata": {
    "colab_type": "text",
    "id": "e9EJqVwSmaB-",
    "pycharm": {}
   },
   "source": [
    "### Analysis by customer"
   ]
  },
  {
   "cell_type": "code",
   "execution_count": 7,
   "metadata": {
    "colab": {
     "base_uri": "https://localhost:8080/",
     "height": 170
    },
    "colab_type": "code",
    "executionInfo": {
     "elapsed": 7262,
     "status": "ok",
     "timestamp": 1555699291821,
     "user": {
      "displayName": "Jeffrey Kantor",
      "photoUrl": "https://lh5.googleusercontent.com/-8zK5aAW5RMQ/AAAAAAAAAAI/AAAAAAAAKB0/kssUQyz8DTQ/s64/photo.jpg",
      "userId": "09038942003589296665"
     },
     "user_tz": 240
    },
    "id": "EQLauqn0maB_",
    "outputId": "0c5e18a0-e9f0-4276-89b7-813f7de40f73",
    "pycharm": {}
   },
   "outputs": [
    {
     "name": "stdout",
     "output_type": "stream",
     "text": [
      "\n",
      "Customers:\n",
      "Customer      Demand   Shipped    Margin\n",
      "Lon            125.0     125.0    2.5000\n",
      "Ber            175.0     175.0    2.7000\n",
      "Maa            225.0     225.0    1.8000\n",
      "Ams            250.0     250.0    1.0000\n",
      "Utr            225.0     225.0    1.0000\n",
      "Hag            200.0     200.0    0.8000\n"
     ]
    }
   ],
   "source": [
    "if 'ok' == str(results.Solver.status):    \n",
    "    print(\"\\nCustomers:\")\n",
    "    print(\"Customer      Demand   Shipped    Margin\")\n",
    "    for n in model.dmd.keys():\n",
    "        c = CUS[n-1]\n",
    "        print(\"{0:10s}{1:10.1f}{2:10.1f}{3:10.4f}\".format(c,Demand[c],model.dmd[n](),model.dual[model.dmd[n]]))\n",
    "else:\n",
    "    print(\"No Valid Solution Found\")"
   ]
  },
  {
   "cell_type": "markdown",
   "metadata": {
    "colab_type": "text",
    "id": "kK5peVBmmaCC",
    "pycharm": {}
   },
   "source": [
    "Looking at the demand constraints, we see that all of the required demands have been met by the optimal solution.\n",
    "\n",
    "The marginal values of these constraints indicate how much the total transportation costs will increase if there is an additional ton of demand at any of the locations. In particular, note that increasing the demand at Berlin will increase costs by 2.7 Euros per ton. This is actually **greater** than the list price for shipping to Berlin which is 2.5 Euros per ton.  Why is this?\n",
    "\n",
    "To see what's going on, let's resolve the problem with a one ton increase in the demand at Berlin.\n",
    "\n",
    "We see the total cost has increased from 1715.0 to 1717.7 Euros, an increase of 2.7 Euros just as predicted by the marginal value assocated with the demand constraint for Berlin.\n",
    "\n",
    "Now let's look at the solution.\n",
    "\n",
    "Here we see that increasing the demand in Berlin resulted in a number of other changes. This figure shows the changes shipments.\n",
    "\n",
    "![TransportNet_sens.png](https://github.com/jckantor/ND-Pyomo-Cookbook/blob/master/notebooks/figures/TransportNet_sens.png?raw=1)\n",
    "\n",
    "* Shipments to Berlin increased from 175 to 176 tons, increasing costs for that link from 437.5 to 440.0, or a net increase of 2.5 Euros.\n",
    "* Since Arnhem is operating at full capacity, increasing the shipments from Arnhem to Berlin resulted in decreasing the shipments from Arhhem to Utrecht from 150 to 149 reducing those shipping costs from 120.0 to 119.2, a net decrease of 0.8 Euros.\n",
    "* To meet demand at Utrecht, shipments from Gouda to Utrecht had to increase from 75 to 76, increasing shipping costs by a net amount of 1.0 Euros.\n",
    "* The net effect on shipping costs is 2.5 - 0.8 + 1.0 = 2.7 Euros.\n",
    "\n",
    "The important conclusion to draw is that when operating under optimal conditions, a change in demand or supply can have a ripple effect on the optimal solution that can only be measured through a proper sensitivity analysis."
   ]
  },
  {
   "cell_type": "markdown",
   "metadata": {
    "colab_type": "text",
    "id": "Y1uwO5damaCD",
    "pycharm": {}
   },
   "source": [
    "## Exercises\n",
    "\n",
    "1. Move 50 tons of supply capacity from Gouda to Arnhem, and repeat the sensitivity analysis. How has the situation improved?  In practice, would you recommend this change, or would you propose something different?\n",
    "2. What other business improvements would you recommend?"
   ]
  },
  {
   "cell_type": "code",
   "execution_count": null,
   "metadata": {
    "colab": {},
    "colab_type": "code",
    "id": "Ku2mzo0CmaCD",
    "pycharm": {}
   },
   "outputs": [],
   "source": []
  }
 ],
 "metadata": {
  "colab": {
   "collapsed_sections": [],
   "name": "03.01-Transportation-Networks.ipynb",
   "provenance": [],
   "version": "0.3.2"
  },
  "kernelspec": {
   "display_name": "Python 3",
   "language": "python",
   "name": "python3"
  },
  "language_info": {
   "codemirror_mode": {
    "name": "ipython",
    "version": 3
   },
   "file_extension": ".py",
   "mimetype": "text/x-python",
   "name": "python",
   "nbconvert_exporter": "python",
   "pygments_lexer": "ipython3",
   "version": "3.7.6"
  }
 },
 "nbformat": 4,
 "nbformat_minor": 2
}
